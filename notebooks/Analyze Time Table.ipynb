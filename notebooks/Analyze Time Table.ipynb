{
 "cells": [
  {
   "cell_type": "markdown",
   "metadata": {},
   "source": [
    "# Analyze Time Table\n",
    "\n",
    "Analyze the time table of COUNT DOWN JAPAN/ROCK'IN ON JAPAN\n",
    "\n",
    "Hypothesis.\n",
    "\n",
    "\n",
    "* Attendance Probability: will dependes on past attendances.\n",
    "  * As count of attendance increase, attendance probability will increase.\n",
    "* Time Table Probability: will depends on past or recent time table.\n",
    "  * Attending time (day) will be different from past / recent fes time table.\n"
   ]
  },
  {
   "cell_type": "markdown",
   "metadata": {},
   "source": [
    "## Preparation"
   ]
  },
  {
   "cell_type": "code",
   "execution_count": 38,
   "metadata": {},
   "outputs": [],
   "source": [
    "import os\n",
    "import sys\n",
    "import numpy as np\n",
    "import pandas as pd\n",
    "import matplotlib.pyplot as plt"
   ]
  },
  {
   "cell_type": "code",
   "execution_count": 39,
   "metadata": {},
   "outputs": [],
   "source": [
    "%matplotlib inline"
   ]
  },
  {
   "cell_type": "code",
   "execution_count": 40,
   "metadata": {},
   "outputs": [],
   "source": [
    "def set_path():\n",
    "    root = os.path.join(os.path.realpath(\".\"), \"../\")\n",
    "    if root not in sys.path:\n",
    "        sys.path.append(root)\n",
    "    return root\n",
    "\n",
    "DATA_DIR = os.path.join(set_path(), \"data/raw\")\n",
    "if not os.path.exists(DATA_DIR):\n",
    "    raise Exception(\"Data dir does not exist. Please Run 'Get Fes dataset'first.\")"
   ]
  },
  {
   "cell_type": "markdown",
   "metadata": {},
   "source": [
    "## Analyze Time Table"
   ]
  },
  {
   "cell_type": "code",
   "execution_count": 41,
   "metadata": {},
   "outputs": [
    {
     "data": {
      "text/html": [
       "<div>\n",
       "<style scoped>\n",
       "    .dataframe tbody tr th:only-of-type {\n",
       "        vertical-align: middle;\n",
       "    }\n",
       "\n",
       "    .dataframe tbody tr th {\n",
       "        vertical-align: top;\n",
       "    }\n",
       "\n",
       "    .dataframe thead th {\n",
       "        text-align: right;\n",
       "    }\n",
       "</style>\n",
       "<table border=\"1\" class=\"dataframe\">\n",
       "  <thead>\n",
       "    <tr style=\"text-align: right;\">\n",
       "      <th></th>\n",
       "      <th>artist</th>\n",
       "      <th>day</th>\n",
       "      <th>day_index</th>\n",
       "      <th>detail_link</th>\n",
       "      <th>stage</th>\n",
       "      <th>year</th>\n",
       "    </tr>\n",
       "  </thead>\n",
       "  <tbody>\n",
       "    <tr>\n",
       "      <th>0</th>\n",
       "      <td>B-DASH</td>\n",
       "      <td>12/29</td>\n",
       "      <td>1</td>\n",
       "      <td>/wiki/B-DASH</td>\n",
       "      <td>EARTH STAGE</td>\n",
       "      <td>2003</td>\n",
       "    </tr>\n",
       "    <tr>\n",
       "      <th>1</th>\n",
       "      <td>ASIAN KUNG-FU GENERATION</td>\n",
       "      <td>12/29</td>\n",
       "      <td>1</td>\n",
       "      <td>/wiki/ASIAN_KUNG-FU_GENERATION</td>\n",
       "      <td>EARTH STAGE</td>\n",
       "      <td>2003</td>\n",
       "    </tr>\n",
       "    <tr>\n",
       "      <th>2</th>\n",
       "      <td>斉藤和義</td>\n",
       "      <td>12/29</td>\n",
       "      <td>1</td>\n",
       "      <td>/wiki/%E6%96%89%E8%97%A4%E5%92%8C%E7%BE%A9</td>\n",
       "      <td>EARTH STAGE</td>\n",
       "      <td>2003</td>\n",
       "    </tr>\n",
       "  </tbody>\n",
       "</table>\n",
       "</div>"
      ],
      "text/plain": [
       "                     artist    day  day_index  \\\n",
       "0                    B-DASH  12/29          1   \n",
       "1  ASIAN KUNG-FU GENERATION  12/29          1   \n",
       "2                      斉藤和義  12/29          1   \n",
       "\n",
       "                                  detail_link        stage  year  \n",
       "0                                /wiki/B-DASH  EARTH STAGE  2003  \n",
       "1              /wiki/ASIAN_KUNG-FU_GENERATION  EARTH STAGE  2003  \n",
       "2  /wiki/%E6%96%89%E8%97%A4%E5%92%8C%E7%BE%A9  EARTH STAGE  2003  "
      ]
     },
     "execution_count": 41,
     "metadata": {},
     "output_type": "execute_result"
    }
   ],
   "source": [
    "df_cdj = pd.read_csv(os.path.join(DATA_DIR, \"cdj.csv\"))\n",
    "df_cdj.head(3)"
   ]
  },
  {
   "cell_type": "code",
   "execution_count": 42,
   "metadata": {},
   "outputs": [
    {
     "data": {
      "text/html": [
       "<div>\n",
       "<style scoped>\n",
       "    .dataframe tbody tr th:only-of-type {\n",
       "        vertical-align: middle;\n",
       "    }\n",
       "\n",
       "    .dataframe tbody tr th {\n",
       "        vertical-align: top;\n",
       "    }\n",
       "\n",
       "    .dataframe thead th {\n",
       "        text-align: right;\n",
       "    }\n",
       "</style>\n",
       "<table border=\"1\" class=\"dataframe\">\n",
       "  <thead>\n",
       "    <tr style=\"text-align: right;\">\n",
       "      <th></th>\n",
       "      <th>artist</th>\n",
       "      <th>day</th>\n",
       "      <th>day_index</th>\n",
       "      <th>detail_link</th>\n",
       "      <th>stage</th>\n",
       "      <th>year</th>\n",
       "    </tr>\n",
       "  </thead>\n",
       "  <tbody>\n",
       "    <tr>\n",
       "      <th>0</th>\n",
       "      <td>AIR</td>\n",
       "      <td>8/12</td>\n",
       "      <td>1</td>\n",
       "      <td>/wiki/%E8%BB%8A%E8%B0%B7%E6%B5%A9%E5%8F%B8</td>\n",
       "      <td>STAGE</td>\n",
       "      <td>2000</td>\n",
       "    </tr>\n",
       "    <tr>\n",
       "      <th>1</th>\n",
       "      <td>エレファントカシマシ</td>\n",
       "      <td>8/12</td>\n",
       "      <td>1</td>\n",
       "      <td>/wiki/%E3%82%A8%E3%83%AC%E3%83%95%E3%82%A1%E3%...</td>\n",
       "      <td>STAGE</td>\n",
       "      <td>2000</td>\n",
       "    </tr>\n",
       "    <tr>\n",
       "      <th>2</th>\n",
       "      <td>くるり</td>\n",
       "      <td>8/12</td>\n",
       "      <td>1</td>\n",
       "      <td>/wiki/%E3%81%8F%E3%82%8B%E3%82%8A</td>\n",
       "      <td>STAGE</td>\n",
       "      <td>2000</td>\n",
       "    </tr>\n",
       "  </tbody>\n",
       "</table>\n",
       "</div>"
      ],
      "text/plain": [
       "       artist   day  day_index  \\\n",
       "0         AIR  8/12          1   \n",
       "1  エレファントカシマシ  8/12          1   \n",
       "2         くるり  8/12          1   \n",
       "\n",
       "                                         detail_link  stage  year  \n",
       "0         /wiki/%E8%BB%8A%E8%B0%B7%E6%B5%A9%E5%8F%B8  STAGE  2000  \n",
       "1  /wiki/%E3%82%A8%E3%83%AC%E3%83%95%E3%82%A1%E3%...  STAGE  2000  \n",
       "2                  /wiki/%E3%81%8F%E3%82%8B%E3%82%8A  STAGE  2000  "
      ]
     },
     "execution_count": 42,
     "metadata": {},
     "output_type": "execute_result"
    }
   ],
   "source": [
    "df_rinj = pd.read_csv(os.path.join(DATA_DIR, \"rinj.csv\"))\n",
    "df_rinj.head(3)"
   ]
  },
  {
   "cell_type": "markdown",
   "metadata": {},
   "source": [
    "### Attendance Probability"
   ]
  },
  {
   "cell_type": "code",
   "execution_count": 43,
   "metadata": {},
   "outputs": [],
   "source": [
    "def cross_by_year(df, discount_rate=0.9):\n",
    "    ct = pd.crosstab(df[\"artist\"], df[\"year\"], rownames=[\"artist\"], colnames=[\"year\"])\n",
    "    \n",
    "    def discount(x):\n",
    "        _exp = np.arange(len(x))[::-1]\n",
    "        rates = np.array([discount_rate] * len(x))\n",
    "        v = np.power(rates, _exp)\n",
    "        return x * v\n",
    "    \n",
    "    ct = pd.DataFrame(ct)\n",
    "    d_ct = ct.apply(discount, axis=1)\n",
    "    return ct, d_ct"
   ]
  },
  {
   "cell_type": "code",
   "execution_count": 44,
   "metadata": {},
   "outputs": [],
   "source": [
    "ct, ct_d = cross_by_year(df_cdj)"
   ]
  },
  {
   "cell_type": "code",
   "execution_count": 45,
   "metadata": {},
   "outputs": [
    {
     "data": {
      "text/html": [
       "<div>\n",
       "<style scoped>\n",
       "    .dataframe tbody tr th:only-of-type {\n",
       "        vertical-align: middle;\n",
       "    }\n",
       "\n",
       "    .dataframe tbody tr th {\n",
       "        vertical-align: top;\n",
       "    }\n",
       "\n",
       "    .dataframe thead th {\n",
       "        text-align: right;\n",
       "    }\n",
       "</style>\n",
       "<table border=\"1\" class=\"dataframe\">\n",
       "  <thead>\n",
       "    <tr style=\"text-align: right;\">\n",
       "      <th>year</th>\n",
       "      <th>2003</th>\n",
       "      <th>2004</th>\n",
       "      <th>2005</th>\n",
       "      <th>2006</th>\n",
       "      <th>2007</th>\n",
       "      <th>2008</th>\n",
       "      <th>2009</th>\n",
       "      <th>2010</th>\n",
       "      <th>2011</th>\n",
       "      <th>2012</th>\n",
       "      <th>2013</th>\n",
       "      <th>2014</th>\n",
       "      <th>2015</th>\n",
       "      <th>2016</th>\n",
       "      <th>2017</th>\n",
       "      <th>2018</th>\n",
       "    </tr>\n",
       "    <tr>\n",
       "      <th>artist</th>\n",
       "      <th></th>\n",
       "      <th></th>\n",
       "      <th></th>\n",
       "      <th></th>\n",
       "      <th></th>\n",
       "      <th></th>\n",
       "      <th></th>\n",
       "      <th></th>\n",
       "      <th></th>\n",
       "      <th></th>\n",
       "      <th></th>\n",
       "      <th></th>\n",
       "      <th></th>\n",
       "      <th></th>\n",
       "      <th></th>\n",
       "      <th></th>\n",
       "    </tr>\n",
       "  </thead>\n",
       "  <tbody>\n",
       "    <tr>\n",
       "      <th>0.8秒と衝撃。</th>\n",
       "      <td>0.000000</td>\n",
       "      <td>0.000000</td>\n",
       "      <td>0.000000</td>\n",
       "      <td>0.00000</td>\n",
       "      <td>0.000000</td>\n",
       "      <td>0.000000</td>\n",
       "      <td>0.0</td>\n",
       "      <td>0.000000</td>\n",
       "      <td>0.000000</td>\n",
       "      <td>0.000000</td>\n",
       "      <td>0.00000</td>\n",
       "      <td>0.6561</td>\n",
       "      <td>0.000</td>\n",
       "      <td>0.00</td>\n",
       "      <td>0.0</td>\n",
       "      <td>0.0</td>\n",
       "    </tr>\n",
       "    <tr>\n",
       "      <th>04 Limited Sazabys</th>\n",
       "      <td>0.000000</td>\n",
       "      <td>0.000000</td>\n",
       "      <td>0.000000</td>\n",
       "      <td>0.00000</td>\n",
       "      <td>0.000000</td>\n",
       "      <td>0.000000</td>\n",
       "      <td>0.0</td>\n",
       "      <td>0.000000</td>\n",
       "      <td>0.000000</td>\n",
       "      <td>0.000000</td>\n",
       "      <td>0.00000</td>\n",
       "      <td>0.6561</td>\n",
       "      <td>0.729</td>\n",
       "      <td>0.81</td>\n",
       "      <td>0.9</td>\n",
       "      <td>1.0</td>\n",
       "    </tr>\n",
       "    <tr>\n",
       "      <th>10-FEET</th>\n",
       "      <td>0.205891</td>\n",
       "      <td>0.228768</td>\n",
       "      <td>0.254187</td>\n",
       "      <td>0.28243</td>\n",
       "      <td>0.313811</td>\n",
       "      <td>0.348678</td>\n",
       "      <td>0.0</td>\n",
       "      <td>0.430467</td>\n",
       "      <td>0.478297</td>\n",
       "      <td>0.531441</td>\n",
       "      <td>0.59049</td>\n",
       "      <td>0.6561</td>\n",
       "      <td>0.729</td>\n",
       "      <td>0.81</td>\n",
       "      <td>0.9</td>\n",
       "      <td>1.0</td>\n",
       "    </tr>\n",
       "    <tr>\n",
       "      <th>100s</th>\n",
       "      <td>0.000000</td>\n",
       "      <td>0.228768</td>\n",
       "      <td>0.000000</td>\n",
       "      <td>0.28243</td>\n",
       "      <td>0.000000</td>\n",
       "      <td>0.348678</td>\n",
       "      <td>0.0</td>\n",
       "      <td>0.000000</td>\n",
       "      <td>0.000000</td>\n",
       "      <td>0.000000</td>\n",
       "      <td>0.00000</td>\n",
       "      <td>0.0000</td>\n",
       "      <td>0.000</td>\n",
       "      <td>0.00</td>\n",
       "      <td>0.0</td>\n",
       "      <td>0.0</td>\n",
       "    </tr>\n",
       "    <tr>\n",
       "      <th>175R</th>\n",
       "      <td>0.000000</td>\n",
       "      <td>0.228768</td>\n",
       "      <td>0.000000</td>\n",
       "      <td>0.00000</td>\n",
       "      <td>0.000000</td>\n",
       "      <td>0.000000</td>\n",
       "      <td>0.0</td>\n",
       "      <td>0.430467</td>\n",
       "      <td>0.000000</td>\n",
       "      <td>0.000000</td>\n",
       "      <td>0.00000</td>\n",
       "      <td>0.0000</td>\n",
       "      <td>0.000</td>\n",
       "      <td>0.00</td>\n",
       "      <td>0.9</td>\n",
       "      <td>0.0</td>\n",
       "    </tr>\n",
       "  </tbody>\n",
       "</table>\n",
       "</div>"
      ],
      "text/plain": [
       "year                    2003      2004      2005     2006      2007      2008  \\\n",
       "artist                                                                          \n",
       "0.8秒と衝撃。            0.000000  0.000000  0.000000  0.00000  0.000000  0.000000   \n",
       "04 Limited Sazabys  0.000000  0.000000  0.000000  0.00000  0.000000  0.000000   \n",
       "10-FEET             0.205891  0.228768  0.254187  0.28243  0.313811  0.348678   \n",
       "100s                0.000000  0.228768  0.000000  0.28243  0.000000  0.348678   \n",
       "175R                0.000000  0.228768  0.000000  0.00000  0.000000  0.000000   \n",
       "\n",
       "year                2009      2010      2011      2012     2013    2014  \\\n",
       "artist                                                                    \n",
       "0.8秒と衝撃。             0.0  0.000000  0.000000  0.000000  0.00000  0.6561   \n",
       "04 Limited Sazabys   0.0  0.000000  0.000000  0.000000  0.00000  0.6561   \n",
       "10-FEET              0.0  0.430467  0.478297  0.531441  0.59049  0.6561   \n",
       "100s                 0.0  0.000000  0.000000  0.000000  0.00000  0.0000   \n",
       "175R                 0.0  0.430467  0.000000  0.000000  0.00000  0.0000   \n",
       "\n",
       "year                 2015  2016  2017  2018  \n",
       "artist                                       \n",
       "0.8秒と衝撃。            0.000  0.00   0.0   0.0  \n",
       "04 Limited Sazabys  0.729  0.81   0.9   1.0  \n",
       "10-FEET             0.729  0.81   0.9   1.0  \n",
       "100s                0.000  0.00   0.0   0.0  \n",
       "175R                0.000  0.00   0.9   0.0  "
      ]
     },
     "execution_count": 45,
     "metadata": {},
     "output_type": "execute_result"
    }
   ],
   "source": [
    "ct_d.head(5)"
   ]
  },
  {
   "cell_type": "code",
   "execution_count": 46,
   "metadata": {},
   "outputs": [],
   "source": [
    "from sklearn.linear_model import LogisticRegression\n",
    "from sklearn.model_selection import train_test_split\n",
    "\n",
    "\n",
    "def try_prediction(target, feature=None, test_size=0.33):\n",
    "    X = feature\n",
    "    if feature is None:\n",
    "        X = target\n",
    "    \n",
    "    result = {}\n",
    "    for i, c in enumerate(X.columns[1:], start=1):\n",
    "        p = X.columns[i - 1]\n",
    "        _X = X[p].values.reshape(-1, 1)\n",
    "        y = target[c]\n",
    "        X_train, X_test, y_train, y_test = train_test_split(_X, y, test_size=test_size)\n",
    "        model = LogisticRegression(solver=\"liblinear\", multi_class=\"ovr\").fit(X_train, y_train)\n",
    "        score = model.score(X_test, y_test)\n",
    "        result[\"{}=>{}\".format(p, c)] = score\n",
    "\n",
    "    result = pd.Series(result)\n",
    "    result.plot.bar()\n",
    "    return result"
   ]
  },
  {
   "cell_type": "code",
   "execution_count": 47,
   "metadata": {},
   "outputs": [
    {
     "name": "stdout",
     "output_type": "stream",
     "text": [
      "0.8478696741854638\n"
     ]
    },
    {
     "data": {
      "image/png": "[encoded data removed]",
      "text/plain": [
       "<Figure size 432x288 with 1 Axes>"
      ]
     },
     "metadata": {
      "needs_background": "light"
     },
     "output_type": "display_data"
    }
   ],
   "source": [
    "predict_from_previous = try_prediction(ct)\n",
    "print(predict_from_previous.mean())"
   ]
  },
  {
   "cell_type": "code",
   "execution_count": 48,
   "metadata": {},
   "outputs": [
    {
     "name": "stdout",
     "output_type": "stream",
     "text": [
      "0.8408521303258145\n"
     ]
    },
    {
     "data": {
      "image/png": "[encoded data removed]",
      "text/plain": [
       "<Figure size 432x288 with 1 Axes>"
      ]
     },
     "metadata": {
      "needs_background": "light"
     },
     "output_type": "display_data"
    }
   ],
   "source": [
    "predict_from_cumsum = try_prediction(ct, ct_d.cumsum(axis=1))\n",
    "print(predict_from_cumsum.mean())"
   ]
  },
  {
   "cell_type": "code",
   "execution_count": 49,
   "metadata": {},
   "outputs": [
    {
     "name": "stdout",
     "output_type": "stream",
     "text": [
      "0.869765908341576\n"
     ]
    },
    {
     "data": {
      "image/png": "[encoded data removed]",
      "text/plain": [
       "<Figure size 432x288 with 1 Axes>"
      ]
     },
     "metadata": {
      "needs_background": "light"
     },
     "output_type": "display_data"
    }
   ],
   "source": [
    "ct_rinj, ct_d_rinj = cross_by_year(df_rinj)\n",
    "predict_from_previous_rinj = try_prediction(ct_rinj)\n",
    "print(predict_from_previous_rinj.mean())"
   ]
  },
  {
   "cell_type": "code",
   "execution_count": 50,
   "metadata": {},
   "outputs": [
    {
     "name": "stdout",
     "output_type": "stream",
     "text": [
      "0.8692713484998351\n"
     ]
    },
    {
     "data": {
      "image/png": "[encoded data removed]",
      "text/plain": [
       "<Figure size 432x288 with 1 Axes>"
      ]
     },
     "metadata": {
      "needs_background": "light"
     },
     "output_type": "display_data"
    }
   ],
   "source": [
    "predict_from_cumsum_rinj = try_prediction(ct_rinj, ct_d_rinj.cumsum(axis=1))\n",
    "print(predict_from_cumsum_rinj.mean())"
   ]
  },
  {
   "cell_type": "markdown",
   "metadata": {},
   "source": [
    "## Time Table Probability"
   ]
  },
  {
   "cell_type": "code",
   "execution_count": 51,
   "metadata": {},
   "outputs": [],
   "source": [
    "def make_day_feature(df):\n",
    "    categorical_day = pd.get_dummies(df[\"day_index\"], prefix=\"day_category\")\n",
    "    feature_added = pd.concat([df, categorical_day], axis=1)\n",
    "    return feature_added"
   ]
  },
  {
   "cell_type": "code",
   "execution_count": 52,
   "metadata": {},
   "outputs": [
    {
     "data": {
      "text/html": [
       "<div>\n",
       "<style scoped>\n",
       "    .dataframe tbody tr th:only-of-type {\n",
       "        vertical-align: middle;\n",
       "    }\n",
       "\n",
       "    .dataframe tbody tr th {\n",
       "        vertical-align: top;\n",
       "    }\n",
       "\n",
       "    .dataframe thead th {\n",
       "        text-align: right;\n",
       "    }\n",
       "</style>\n",
       "<table border=\"1\" class=\"dataframe\">\n",
       "  <thead>\n",
       "    <tr style=\"text-align: right;\">\n",
       "      <th></th>\n",
       "      <th>artist</th>\n",
       "      <th>day</th>\n",
       "      <th>day_index</th>\n",
       "      <th>detail_link</th>\n",
       "      <th>stage</th>\n",
       "      <th>year</th>\n",
       "      <th>day_category_1</th>\n",
       "      <th>day_category_2</th>\n",
       "      <th>day_category_3</th>\n",
       "      <th>day_category_4</th>\n",
       "    </tr>\n",
       "  </thead>\n",
       "  <tbody>\n",
       "    <tr>\n",
       "      <th>0</th>\n",
       "      <td>B-DASH</td>\n",
       "      <td>12/29</td>\n",
       "      <td>1</td>\n",
       "      <td>/wiki/B-DASH</td>\n",
       "      <td>EARTH STAGE</td>\n",
       "      <td>2003</td>\n",
       "      <td>1</td>\n",
       "      <td>0</td>\n",
       "      <td>0</td>\n",
       "      <td>0</td>\n",
       "    </tr>\n",
       "    <tr>\n",
       "      <th>1</th>\n",
       "      <td>ASIAN KUNG-FU GENERATION</td>\n",
       "      <td>12/29</td>\n",
       "      <td>1</td>\n",
       "      <td>/wiki/ASIAN_KUNG-FU_GENERATION</td>\n",
       "      <td>EARTH STAGE</td>\n",
       "      <td>2003</td>\n",
       "      <td>1</td>\n",
       "      <td>0</td>\n",
       "      <td>0</td>\n",
       "      <td>0</td>\n",
       "    </tr>\n",
       "    <tr>\n",
       "      <th>2</th>\n",
       "      <td>斉藤和義</td>\n",
       "      <td>12/29</td>\n",
       "      <td>1</td>\n",
       "      <td>/wiki/%E6%96%89%E8%97%A4%E5%92%8C%E7%BE%A9</td>\n",
       "      <td>EARTH STAGE</td>\n",
       "      <td>2003</td>\n",
       "      <td>1</td>\n",
       "      <td>0</td>\n",
       "      <td>0</td>\n",
       "      <td>0</td>\n",
       "    </tr>\n",
       "  </tbody>\n",
       "</table>\n",
       "</div>"
      ],
      "text/plain": [
       "                     artist    day  day_index  \\\n",
       "0                    B-DASH  12/29          1   \n",
       "1  ASIAN KUNG-FU GENERATION  12/29          1   \n",
       "2                      斉藤和義  12/29          1   \n",
       "\n",
       "                                  detail_link        stage  year  \\\n",
       "0                                /wiki/B-DASH  EARTH STAGE  2003   \n",
       "1              /wiki/ASIAN_KUNG-FU_GENERATION  EARTH STAGE  2003   \n",
       "2  /wiki/%E6%96%89%E8%97%A4%E5%92%8C%E7%BE%A9  EARTH STAGE  2003   \n",
       "\n",
       "   day_category_1  day_category_2  day_category_3  day_category_4  \n",
       "0               1               0               0               0  \n",
       "1               1               0               0               0  \n",
       "2               1               0               0               0  "
      ]
     },
     "execution_count": 52,
     "metadata": {},
     "output_type": "execute_result"
    }
   ],
   "source": [
    "f_cdj = make_day_feature(df_cdj)\n",
    "f_cdj.head(3)"
   ]
  },
  {
   "cell_type": "code",
   "execution_count": 53,
   "metadata": {},
   "outputs": [],
   "source": [
    "f_rinj = make_day_feature(df_rinj)"
   ]
  },
  {
   "cell_type": "code",
   "execution_count": 54,
   "metadata": {},
   "outputs": [],
   "source": [
    "def predict_day(df, from_year, target_year, cumsum=False, test_size=0.33, feature=None):\n",
    "    f_columns =  [c for c in df.columns if c.startswith(\"day_category\")]\n",
    "    feature = feature\n",
    "    if feature is None:\n",
    "        feature = df\n",
    "\n",
    "    if not cumsum:\n",
    "        X = feature[feature[\"year\"] == from_year][[\"artist\"] + f_columns]\n",
    "    else:\n",
    "        X = feature[feature[\"year\"] <= from_year][[\"artist\"] + f_columns].groupby([\"artist\"])[f_columns].sum().reset_index()\n",
    "    \n",
    "    y = df[df[\"year\"] == target_year][[\"artist\", \"day_index\"]]\n",
    " \n",
    "    Xy = y.merge(X, left_on=\"artist\", right_on=\"artist\", how=\"left\").fillna(0)\n",
    "    X = Xy[f_columns]\n",
    "    y = Xy[\"day_index\"]\n",
    "    \n",
    "    X_train, X_test, y_train, y_test = train_test_split(X, y, test_size=test_size)\n",
    "    model = LogisticRegression(solver=\"liblinear\", multi_class=\"ovr\", class_weight=\"balanced\").fit(X_train, y_train)\n",
    "    score = model.score(X_test, y_test)\n",
    "    return score"
   ]
  },
  {
   "cell_type": "code",
   "execution_count": 67,
   "metadata": {},
   "outputs": [],
   "source": [
    "def predict_day_all(df, cumsum=False, feature=None):\n",
    "    years = df[\"year\"].value_counts().index.values.astype(int)\n",
    "    years.sort()\n",
    "    result = {}\n",
    "    for i, y in enumerate(years[1:], start=1):\n",
    "        previous = years[i - 1]\n",
    "        target = y\n",
    "        score = predict_day(df, previous, target, cumsum=cumsum, feature=feature)\n",
    "        result[\"{} => {}\".format(previous, target)] = score\n",
    "    \n",
    "    result = pd.Series(result)\n",
    "    result.plot.bar()\n",
    "    return result"
   ]
  },
  {
   "cell_type": "markdown",
   "metadata": {},
   "source": [
    "#### COUNT DOWN JAPAN"
   ]
  },
  {
   "cell_type": "code",
   "execution_count": 70,
   "metadata": {},
   "outputs": [
    {
     "name": "stdout",
     "output_type": "stream",
     "text": [
      "0.3439522476961237\n"
     ]
    },
    {
     "data": {
      "image/png": "[encoded data removed]",
      "text/plain": [
       "<Figure size 432x288 with 1 Axes>"
      ]
     },
     "metadata": {
      "needs_background": "light"
     },
     "output_type": "display_data"
    }
   ],
   "source": [
    "predict_from_previous_day = predict_day_all(f_cdj)\n",
    "print(predict_from_previous_day.mean())"
   ]
  },
  {
   "cell_type": "code",
   "execution_count": 71,
   "metadata": {},
   "outputs": [
    {
     "name": "stdout",
     "output_type": "stream",
     "text": [
      "0.2827117049400243\n"
     ]
    },
    {
     "data": {
      "image/png": "[encoded data removed]",
      "text/plain": [
       "<Figure size 432x288 with 1 Axes>"
      ]
     },
     "metadata": {
      "needs_background": "light"
     },
     "output_type": "display_data"
    }
   ],
   "source": [
    "predict_from_previous_day_cum = predict_day_all(f_cdj, cumsum=True)\n",
    "print(predict_from_previous_day_cum.mean())"
   ]
  },
  {
   "cell_type": "markdown",
   "metadata": {},
   "source": [
    "#### ROCK IN JAPAN"
   ]
  },
  {
   "cell_type": "code",
   "execution_count": 72,
   "metadata": {},
   "outputs": [
    {
     "name": "stdout",
     "output_type": "stream",
     "text": [
      "0.2912940480887443\n"
     ]
    },
    {
     "data": {
      "image/png": "[encoded data removed]",
      "text/plain": [
       "<Figure size 432x288 with 1 Axes>"
      ]
     },
     "metadata": {
      "needs_background": "light"
     },
     "output_type": "display_data"
    }
   ],
   "source": [
    "predict_from_previous_day_rinj = predict_day_all(f_rinj)\n",
    "print(predict_from_previous_day_rinj.mean())"
   ]
  },
  {
   "cell_type": "code",
   "execution_count": 73,
   "metadata": {},
   "outputs": [
    {
     "name": "stdout",
     "output_type": "stream",
     "text": [
      "0.27131777996693496\n"
     ]
    },
    {
     "data": {
      "image/png": "[encoded data removed]",
      "text/plain": [
       "<Figure size 432x288 with 1 Axes>"
      ]
     },
     "metadata": {
      "needs_background": "light"
     },
     "output_type": "display_data"
    }
   ],
   "source": [
    "predict_from_previous_day_rinj = predict_day_all(f_rinj, cumsum=True)\n",
    "print(predict_from_previous_day_rinj.mean())"
   ]
  },
  {
   "cell_type": "markdown",
   "metadata": {},
   "source": [
    "### COUNT DOWN JAPAN from ROCK IN JAPAN"
   ]
  },
  {
   "cell_type": "code",
   "execution_count": 83,
   "metadata": {},
   "outputs": [
    {
     "name": "stdout",
     "output_type": "stream",
     "text": [
      "0.28566904509032826\n"
     ]
    },
    {
     "data": {
      "image/png": "[encoded data removed]",
      "text/plain": [
       "<Figure size 432x288 with 1 Axes>"
      ]
     },
     "metadata": {
      "needs_background": "light"
     },
     "output_type": "display_data"
    }
   ],
   "source": [
    "predict_from_rinj = predict_day_all(f_cdj, feature=f_rinj)\n",
    "print(predict_from_rinj.mean())"
   ]
  },
  {
   "cell_type": "code",
   "execution_count": 75,
   "metadata": {},
   "outputs": [
    {
     "name": "stdout",
     "output_type": "stream",
     "text": [
      "0.27380791885799455\n"
     ]
    },
    {
     "data": {
      "image/png": "[encoded data removed]",
      "text/plain": [
       "<Figure size 432x288 with 1 Axes>"
      ]
     },
     "metadata": {
      "needs_background": "light"
     },
     "output_type": "display_data"
    }
   ],
   "source": [
    "predict_from_rinj = predict_day_all(f_cdj, feature=f_rinj, cumsum=True)\n",
    "print(predict_from_rinj.mean())"
   ]
  },
  {
   "cell_type": "markdown",
   "metadata": {},
   "source": [
    "### ROCK IN JAPAN from COUNT DOWN JAPAN"
   ]
  },
  {
   "cell_type": "code",
   "execution_count": 76,
   "metadata": {},
   "outputs": [
    {
     "name": "stdout",
     "output_type": "stream",
     "text": [
      "0.27584180836566935\n"
     ]
    },
    {
     "data": {
      "image/png": "[encoded data removed]",
      "text/plain": [
       "<Figure size 432x288 with 1 Axes>"
      ]
     },
     "metadata": {
      "needs_background": "light"
     },
     "output_type": "display_data"
    }
   ],
   "source": [
    "predict_from_cdj = predict_day_all(f_rinj, feature=f_cdj)\n",
    "print(predict_from_cdj.mean())"
   ]
  },
  {
   "cell_type": "code",
   "execution_count": 77,
   "metadata": {},
   "outputs": [
    {
     "name": "stdout",
     "output_type": "stream",
     "text": [
      "0.2616732993813693\n"
     ]
    },
    {
     "data": {
      "image/png": "[encoded data removed]",
      "text/plain": [
       "<Figure size 432x288 with 1 Axes>"
      ]
     },
     "metadata": {
      "needs_background": "light"
     },
     "output_type": "display_data"
    }
   ],
   "source": [
    "predict_from_cdj = predict_day_all(f_rinj, feature=f_cdj, cumsum=True)\n",
    "print(predict_from_cdj.mean())"
   ]
  },
  {
   "cell_type": "markdown",
   "metadata": {},
   "source": [
    "## Next Year"
   ]
  },
  {
   "cell_type": "code",
   "execution_count": 78,
   "metadata": {},
   "outputs": [],
   "source": [
    "def make_predict_model(df, from_year, cumsum=False, feature=None, test_size=0.33,):\n",
    "    years = df[\"year\"].value_counts().index.values.astype(int)\n",
    "    years.sort()\n",
    "    years = years[:(years.tolist().index(from_year))]\n",
    "    f_columns =  [c for c in df.columns if c.startswith(\"day_category\")]\n",
    "    feature = feature\n",
    "    if feature is None:\n",
    "        feature = df\n",
    "    \n",
    "    Xs = []\n",
    "    ys = []\n",
    "    \n",
    "    def make_feature(year):\n",
    "        if cumsum:\n",
    "            X = feature[feature[\"year\"] <= year][[\"artist\"] + f_columns].groupby([\"artist\"])[f_columns].sum().reset_index()\n",
    "        else:\n",
    "            X = feature[feature[\"year\"] == year][[\"artist\"] + f_columns]\n",
    "        return X\n",
    "    \n",
    "    for y in years[1:]:\n",
    "        X = make_feature(y - 1)\n",
    "        y = df[df[\"year\"] == y][[\"artist\", \"day_index\"]]\n",
    "        Xy = y.merge(X, left_on=\"artist\", right_on=\"artist\", how=\"left\").fillna(0)\n",
    "        X = Xy[f_columns]\n",
    "        y = Xy[\"day_index\"]\n",
    "        \n",
    "        Xs.append(X)\n",
    "        ys.append(y)\n",
    "    \n",
    "    X = pd.concat(Xs, axis=0)\n",
    "    y = pd.concat(ys, axis=0)\n",
    "    \n",
    "    X_train, X_test, y_train, y_test = train_test_split(X, y, test_size=test_size)\n",
    "    model = LogisticRegression(solver=\"liblinear\", multi_class=\"ovr\", class_weight=\"balanced\").fit(X_train, y_train)\n",
    "    score = model.score(X_test, y_test)\n",
    "    \n",
    "    nX = make_feature(from_year)\n",
    "    prediction = model.predict_proba(nX[f_columns])\n",
    "    prediction = pd.DataFrame(prediction, index=nX[\"artist\"])\n",
    "    return score, prediction"
   ]
  },
  {
   "cell_type": "code",
   "execution_count": 105,
   "metadata": {},
   "outputs": [
    {
     "data": {
      "text/html": [
       "<style  type=\"text/css\" >\n",
       "    #T_e68a40a2_0c25_11e9_87cf_985fd3379ae1row0_col3 {\n",
       "            background-color:  yellow;\n",
       "        }    #T_e68a40a2_0c25_11e9_87cf_985fd3379ae1row1_col3 {\n",
       "            background-color:  yellow;\n",
       "        }    #T_e68a40a2_0c25_11e9_87cf_985fd3379ae1row2_col3 {\n",
       "            background-color:  yellow;\n",
       "        }    #T_e68a40a2_0c25_11e9_87cf_985fd3379ae1row3_col3 {\n",
       "            background-color:  yellow;\n",
       "        }    #T_e68a40a2_0c25_11e9_87cf_985fd3379ae1row4_col3 {\n",
       "            background-color:  yellow;\n",
       "        }    #T_e68a40a2_0c25_11e9_87cf_985fd3379ae1row5_col3 {\n",
       "            background-color:  yellow;\n",
       "        }    #T_e68a40a2_0c25_11e9_87cf_985fd3379ae1row6_col3 {\n",
       "            background-color:  yellow;\n",
       "        }    #T_e68a40a2_0c25_11e9_87cf_985fd3379ae1row7_col3 {\n",
       "            background-color:  yellow;\n",
       "        }    #T_e68a40a2_0c25_11e9_87cf_985fd3379ae1row8_col3 {\n",
       "            background-color:  yellow;\n",
       "        }    #T_e68a40a2_0c25_11e9_87cf_985fd3379ae1row9_col3 {\n",
       "            background-color:  yellow;\n",
       "        }    #T_e68a40a2_0c25_11e9_87cf_985fd3379ae1row10_col3 {\n",
       "            background-color:  yellow;\n",
       "        }    #T_e68a40a2_0c25_11e9_87cf_985fd3379ae1row11_col3 {\n",
       "            background-color:  yellow;\n",
       "        }    #T_e68a40a2_0c25_11e9_87cf_985fd3379ae1row12_col3 {\n",
       "            background-color:  yellow;\n",
       "        }    #T_e68a40a2_0c25_11e9_87cf_985fd3379ae1row13_col3 {\n",
       "            background-color:  yellow;\n",
       "        }    #T_e68a40a2_0c25_11e9_87cf_985fd3379ae1row14_col3 {\n",
       "            background-color:  yellow;\n",
       "        }    #T_e68a40a2_0c25_11e9_87cf_985fd3379ae1row15_col3 {\n",
       "            background-color:  yellow;\n",
       "        }    #T_e68a40a2_0c25_11e9_87cf_985fd3379ae1row16_col3 {\n",
       "            background-color:  yellow;\n",
       "        }    #T_e68a40a2_0c25_11e9_87cf_985fd3379ae1row17_col3 {\n",
       "            background-color:  yellow;\n",
       "        }    #T_e68a40a2_0c25_11e9_87cf_985fd3379ae1row18_col3 {\n",
       "            background-color:  yellow;\n",
       "        }    #T_e68a40a2_0c25_11e9_87cf_985fd3379ae1row19_col3 {\n",
       "            background-color:  yellow;\n",
       "        }    #T_e68a40a2_0c25_11e9_87cf_985fd3379ae1row20_col3 {\n",
       "            background-color:  yellow;\n",
       "        }    #T_e68a40a2_0c25_11e9_87cf_985fd3379ae1row21_col3 {\n",
       "            background-color:  yellow;\n",
       "        }    #T_e68a40a2_0c25_11e9_87cf_985fd3379ae1row22_col3 {\n",
       "            background-color:  yellow;\n",
       "        }    #T_e68a40a2_0c25_11e9_87cf_985fd3379ae1row23_col3 {\n",
       "            background-color:  yellow;\n",
       "        }    #T_e68a40a2_0c25_11e9_87cf_985fd3379ae1row24_col3 {\n",
       "            background-color:  yellow;\n",
       "        }    #T_e68a40a2_0c25_11e9_87cf_985fd3379ae1row25_col3 {\n",
       "            background-color:  yellow;\n",
       "        }    #T_e68a40a2_0c25_11e9_87cf_985fd3379ae1row26_col3 {\n",
       "            background-color:  yellow;\n",
       "        }    #T_e68a40a2_0c25_11e9_87cf_985fd3379ae1row27_col3 {\n",
       "            background-color:  yellow;\n",
       "        }    #T_e68a40a2_0c25_11e9_87cf_985fd3379ae1row28_col3 {\n",
       "            background-color:  yellow;\n",
       "        }    #T_e68a40a2_0c25_11e9_87cf_985fd3379ae1row29_col3 {\n",
       "            background-color:  yellow;\n",
       "        }    #T_e68a40a2_0c25_11e9_87cf_985fd3379ae1row30_col3 {\n",
       "            background-color:  yellow;\n",
       "        }    #T_e68a40a2_0c25_11e9_87cf_985fd3379ae1row31_col3 {\n",
       "            background-color:  yellow;\n",
       "        }    #T_e68a40a2_0c25_11e9_87cf_985fd3379ae1row32_col3 {\n",
       "            background-color:  yellow;\n",
       "        }    #T_e68a40a2_0c25_11e9_87cf_985fd3379ae1row33_col3 {\n",
       "            background-color:  yellow;\n",
       "        }    #T_e68a40a2_0c25_11e9_87cf_985fd3379ae1row34_col3 {\n",
       "            background-color:  yellow;\n",
       "        }    #T_e68a40a2_0c25_11e9_87cf_985fd3379ae1row35_col0 {\n",
       "            background-color:  yellow;\n",
       "        }    #T_e68a40a2_0c25_11e9_87cf_985fd3379ae1row36_col3 {\n",
       "            background-color:  yellow;\n",
       "        }    #T_e68a40a2_0c25_11e9_87cf_985fd3379ae1row37_col3 {\n",
       "            background-color:  yellow;\n",
       "        }    #T_e68a40a2_0c25_11e9_87cf_985fd3379ae1row38_col3 {\n",
       "            background-color:  yellow;\n",
       "        }    #T_e68a40a2_0c25_11e9_87cf_985fd3379ae1row39_col3 {\n",
       "            background-color:  yellow;\n",
       "        }    #T_e68a40a2_0c25_11e9_87cf_985fd3379ae1row40_col3 {\n",
       "            background-color:  yellow;\n",
       "        }</style>  \n",
       "<table id=\"T_e68a40a2_0c25_11e9_87cf_985fd3379ae1\" > \n",
       "<thead>    <tr> \n",
       "        <th class=\"blank level0\" ></th> \n",
       "        <th class=\"col_heading level0 col0\" >0</th> \n",
       "        <th class=\"col_heading level0 col1\" >1</th> \n",
       "        <th class=\"col_heading level0 col2\" >2</th> \n",
       "        <th class=\"col_heading level0 col3\" >3</th> \n",
       "    </tr>    <tr> \n",
       "        <th class=\"index_name level0\" >artist</th> \n",
       "        <th class=\"blank\" ></th> \n",
       "        <th class=\"blank\" ></th> \n",
       "        <th class=\"blank\" ></th> \n",
       "        <th class=\"blank\" ></th> \n",
       "    </tr></thead> \n",
       "<tbody>    <tr> \n",
       "        <th id=\"T_e68a40a2_0c25_11e9_87cf_985fd3379ae1level0_row0\" class=\"row_heading level0 row0\" >AA=</th> \n",
       "        <td id=\"T_e68a40a2_0c25_11e9_87cf_985fd3379ae1row0_col0\" class=\"data row0 col0\" >0.0401223</td> \n",
       "        <td id=\"T_e68a40a2_0c25_11e9_87cf_985fd3379ae1row0_col1\" class=\"data row0 col1\" >0.166327</td> \n",
       "        <td id=\"T_e68a40a2_0c25_11e9_87cf_985fd3379ae1row0_col2\" class=\"data row0 col2\" >0.146067</td> \n",
       "        <td id=\"T_e68a40a2_0c25_11e9_87cf_985fd3379ae1row0_col3\" class=\"data row0 col3\" >0.647484</td> \n",
       "    </tr>    <tr> \n",
       "        <th id=\"T_e68a40a2_0c25_11e9_87cf_985fd3379ae1level0_row1\" class=\"row_heading level0 row1\" >B-DASH</th> \n",
       "        <td id=\"T_e68a40a2_0c25_11e9_87cf_985fd3379ae1row1_col0\" class=\"data row1 col0\" >0.0240965</td> \n",
       "        <td id=\"T_e68a40a2_0c25_11e9_87cf_985fd3379ae1row1_col1\" class=\"data row1 col1\" >0.0823124</td> \n",
       "        <td id=\"T_e68a40a2_0c25_11e9_87cf_985fd3379ae1row1_col2\" class=\"data row1 col2\" >0.100891</td> \n",
       "        <td id=\"T_e68a40a2_0c25_11e9_87cf_985fd3379ae1row1_col3\" class=\"data row1 col3\" >0.7927</td> \n",
       "    </tr>    <tr> \n",
       "        <th id=\"T_e68a40a2_0c25_11e9_87cf_985fd3379ae1level0_row2\" class=\"row_heading level0 row2\" >Base Ball Bear</th> \n",
       "        <td id=\"T_e68a40a2_0c25_11e9_87cf_985fd3379ae1row2_col0\" class=\"data row2 col0\" >0.00744248</td> \n",
       "        <td id=\"T_e68a40a2_0c25_11e9_87cf_985fd3379ae1row2_col1\" class=\"data row2 col1\" >0.11741</td> \n",
       "        <td id=\"T_e68a40a2_0c25_11e9_87cf_985fd3379ae1row2_col2\" class=\"data row2 col2\" >0.119594</td> \n",
       "        <td id=\"T_e68a40a2_0c25_11e9_87cf_985fd3379ae1row2_col3\" class=\"data row2 col3\" >0.755554</td> \n",
       "    </tr>    <tr> \n",
       "        <th id=\"T_e68a40a2_0c25_11e9_87cf_985fd3379ae1level0_row3\" class=\"row_heading level0 row3\" >DOES</th> \n",
       "        <td id=\"T_e68a40a2_0c25_11e9_87cf_985fd3379ae1row3_col0\" class=\"data row3 col0\" >0.0607367</td> \n",
       "        <td id=\"T_e68a40a2_0c25_11e9_87cf_985fd3379ae1row3_col1\" class=\"data row3 col1\" >0.145428</td> \n",
       "        <td id=\"T_e68a40a2_0c25_11e9_87cf_985fd3379ae1row3_col2\" class=\"data row3 col2\" >0.15884</td> \n",
       "        <td id=\"T_e68a40a2_0c25_11e9_87cf_985fd3379ae1row3_col3\" class=\"data row3 col3\" >0.634996</td> \n",
       "    </tr>    <tr> \n",
       "        <th id=\"T_e68a40a2_0c25_11e9_87cf_985fd3379ae1level0_row4\" class=\"row_heading level0 row4\" >Nothing's Carved In Stone</th> \n",
       "        <td id=\"T_e68a40a2_0c25_11e9_87cf_985fd3379ae1row4_col0\" class=\"data row4 col0\" >0.0360346</td> \n",
       "        <td id=\"T_e68a40a2_0c25_11e9_87cf_985fd3379ae1row4_col1\" class=\"data row4 col1\" >0.148311</td> \n",
       "        <td id=\"T_e68a40a2_0c25_11e9_87cf_985fd3379ae1row4_col2\" class=\"data row4 col2\" >0.19088</td> \n",
       "        <td id=\"T_e68a40a2_0c25_11e9_87cf_985fd3379ae1row4_col3\" class=\"data row4 col3\" >0.624774</td> \n",
       "    </tr>    <tr> \n",
       "        <th id=\"T_e68a40a2_0c25_11e9_87cf_985fd3379ae1level0_row5\" class=\"row_heading level0 row5\" >POLYSICS</th> \n",
       "        <td id=\"T_e68a40a2_0c25_11e9_87cf_985fd3379ae1row5_col0\" class=\"data row5 col0\" >0.0165097</td> \n",
       "        <td id=\"T_e68a40a2_0c25_11e9_87cf_985fd3379ae1row5_col1\" class=\"data row5 col1\" >0.0719374</td> \n",
       "        <td id=\"T_e68a40a2_0c25_11e9_87cf_985fd3379ae1row5_col2\" class=\"data row5 col2\" >0.0907581</td> \n",
       "        <td id=\"T_e68a40a2_0c25_11e9_87cf_985fd3379ae1row5_col3\" class=\"data row5 col3\" >0.820795</td> \n",
       "    </tr>    <tr> \n",
       "        <th id=\"T_e68a40a2_0c25_11e9_87cf_985fd3379ae1level0_row6\" class=\"row_heading level0 row6\" >People In The Box</th> \n",
       "        <td id=\"T_e68a40a2_0c25_11e9_87cf_985fd3379ae1row6_col0\" class=\"data row6 col0\" >0.0675083</td> \n",
       "        <td id=\"T_e68a40a2_0c25_11e9_87cf_985fd3379ae1row6_col1\" class=\"data row6 col1\" >0.143165</td> \n",
       "        <td id=\"T_e68a40a2_0c25_11e9_87cf_985fd3379ae1row6_col2\" class=\"data row6 col2\" >0.143044</td> \n",
       "        <td id=\"T_e68a40a2_0c25_11e9_87cf_985fd3379ae1row6_col3\" class=\"data row6 col3\" >0.646283</td> \n",
       "    </tr>    <tr> \n",
       "        <th id=\"T_e68a40a2_0c25_11e9_87cf_985fd3379ae1level0_row7\" class=\"row_heading level0 row7\" >RHYMESTER</th> \n",
       "        <td id=\"T_e68a40a2_0c25_11e9_87cf_985fd3379ae1row7_col0\" class=\"data row7 col0\" >0.0316786</td> \n",
       "        <td id=\"T_e68a40a2_0c25_11e9_87cf_985fd3379ae1row7_col1\" class=\"data row7 col1\" >0.191001</td> \n",
       "        <td id=\"T_e68a40a2_0c25_11e9_87cf_985fd3379ae1row7_col2\" class=\"data row7 col2\" >0.149023</td> \n",
       "        <td id=\"T_e68a40a2_0c25_11e9_87cf_985fd3379ae1row7_col3\" class=\"data row7 col3\" >0.628297</td> \n",
       "    </tr>    <tr> \n",
       "        <th id=\"T_e68a40a2_0c25_11e9_87cf_985fd3379ae1level0_row8\" class=\"row_heading level0 row8\" >SPECIAL OTHERS</th> \n",
       "        <td id=\"T_e68a40a2_0c25_11e9_87cf_985fd3379ae1row8_col0\" class=\"data row8 col0\" >0.0213929</td> \n",
       "        <td id=\"T_e68a40a2_0c25_11e9_87cf_985fd3379ae1row8_col1\" class=\"data row8 col1\" >0.095612</td> \n",
       "        <td id=\"T_e68a40a2_0c25_11e9_87cf_985fd3379ae1row8_col2\" class=\"data row8 col2\" >0.0932918</td> \n",
       "        <td id=\"T_e68a40a2_0c25_11e9_87cf_985fd3379ae1row8_col3\" class=\"data row8 col3\" >0.789703</td> \n",
       "    </tr>    <tr> \n",
       "        <th id=\"T_e68a40a2_0c25_11e9_87cf_985fd3379ae1level0_row9\" class=\"row_heading level0 row9\" >THE BACK HORN</th> \n",
       "        <td id=\"T_e68a40a2_0c25_11e9_87cf_985fd3379ae1row9_col0\" class=\"data row9 col0\" >0.0112218</td> \n",
       "        <td id=\"T_e68a40a2_0c25_11e9_87cf_985fd3379ae1row9_col1\" class=\"data row9 col1\" >0.11464</td> \n",
       "        <td id=\"T_e68a40a2_0c25_11e9_87cf_985fd3379ae1row9_col2\" class=\"data row9 col2\" >0.10718</td> \n",
       "        <td id=\"T_e68a40a2_0c25_11e9_87cf_985fd3379ae1row9_col3\" class=\"data row9 col3\" >0.766958</td> \n",
       "    </tr>    <tr> \n",
       "        <th id=\"T_e68a40a2_0c25_11e9_87cf_985fd3379ae1level0_row10\" class=\"row_heading level0 row10\" >THE BAWDIES</th> \n",
       "        <td id=\"T_e68a40a2_0c25_11e9_87cf_985fd3379ae1row10_col0\" class=\"data row10 col0\" >0.0120829</td> \n",
       "        <td id=\"T_e68a40a2_0c25_11e9_87cf_985fd3379ae1row10_col1\" class=\"data row10 col1\" >0.0750579</td> \n",
       "        <td id=\"T_e68a40a2_0c25_11e9_87cf_985fd3379ae1row10_col2\" class=\"data row10 col2\" >0.136172</td> \n",
       "        <td id=\"T_e68a40a2_0c25_11e9_87cf_985fd3379ae1row10_col3\" class=\"data row10 col3\" >0.776687</td> \n",
       "    </tr>    <tr> \n",
       "        <th id=\"T_e68a40a2_0c25_11e9_87cf_985fd3379ae1level0_row11\" class=\"row_heading level0 row11\" >The Mirraz</th> \n",
       "        <td id=\"T_e68a40a2_0c25_11e9_87cf_985fd3379ae1row11_col0\" class=\"data row11 col0\" >0.021953</td> \n",
       "        <td id=\"T_e68a40a2_0c25_11e9_87cf_985fd3379ae1row11_col1\" class=\"data row11 col1\" >0.111995</td> \n",
       "        <td id=\"T_e68a40a2_0c25_11e9_87cf_985fd3379ae1row11_col2\" class=\"data row11 col2\" >0.140044</td> \n",
       "        <td id=\"T_e68a40a2_0c25_11e9_87cf_985fd3379ae1row11_col3\" class=\"data row11 col3\" >0.726008</td> \n",
       "    </tr>    <tr> \n",
       "        <th id=\"T_e68a40a2_0c25_11e9_87cf_985fd3379ae1level0_row12\" class=\"row_heading level0 row12\" >YOUR SONG IS GOOD</th> \n",
       "        <td id=\"T_e68a40a2_0c25_11e9_87cf_985fd3379ae1row12_col0\" class=\"data row12 col0\" >0.0813574</td> \n",
       "        <td id=\"T_e68a40a2_0c25_11e9_87cf_985fd3379ae1row12_col1\" class=\"data row12 col1\" >0.145674</td> \n",
       "        <td id=\"T_e68a40a2_0c25_11e9_87cf_985fd3379ae1row12_col2\" class=\"data row12 col2\" >0.160157</td> \n",
       "        <td id=\"T_e68a40a2_0c25_11e9_87cf_985fd3379ae1row12_col3\" class=\"data row12 col3\" >0.612812</td> \n",
       "    </tr>    <tr> \n",
       "        <th id=\"T_e68a40a2_0c25_11e9_87cf_985fd3379ae1level0_row13\" class=\"row_heading level0 row13\" >bonobos</th> \n",
       "        <td id=\"T_e68a40a2_0c25_11e9_87cf_985fd3379ae1row13_col0\" class=\"data row13 col0\" >0.0219426</td> \n",
       "        <td id=\"T_e68a40a2_0c25_11e9_87cf_985fd3379ae1row13_col1\" class=\"data row13 col1\" >0.097438</td> \n",
       "        <td id=\"T_e68a40a2_0c25_11e9_87cf_985fd3379ae1row13_col2\" class=\"data row13 col2\" >0.165386</td> \n",
       "        <td id=\"T_e68a40a2_0c25_11e9_87cf_985fd3379ae1row13_col3\" class=\"data row13 col3\" >0.715233</td> \n",
       "    </tr>    <tr> \n",
       "        <th id=\"T_e68a40a2_0c25_11e9_87cf_985fd3379ae1level0_row14\" class=\"row_heading level0 row14\" >capsule</th> \n",
       "        <td id=\"T_e68a40a2_0c25_11e9_87cf_985fd3379ae1row14_col0\" class=\"data row14 col0\" >0.0507145</td> \n",
       "        <td id=\"T_e68a40a2_0c25_11e9_87cf_985fd3379ae1row14_col1\" class=\"data row14 col1\" >0.125965</td> \n",
       "        <td id=\"T_e68a40a2_0c25_11e9_87cf_985fd3379ae1row14_col2\" class=\"data row14 col2\" >0.169367</td> \n",
       "        <td id=\"T_e68a40a2_0c25_11e9_87cf_985fd3379ae1row14_col3\" class=\"data row14 col3\" >0.653953</td> \n",
       "    </tr>    <tr> \n",
       "        <th id=\"T_e68a40a2_0c25_11e9_87cf_985fd3379ae1level0_row15\" class=\"row_heading level0 row15\" >dustbox</th> \n",
       "        <td id=\"T_e68a40a2_0c25_11e9_87cf_985fd3379ae1row15_col0\" class=\"data row15 col0\" >0.047407</td> \n",
       "        <td id=\"T_e68a40a2_0c25_11e9_87cf_985fd3379ae1row15_col1\" class=\"data row15 col1\" >0.127526</td> \n",
       "        <td id=\"T_e68a40a2_0c25_11e9_87cf_985fd3379ae1row15_col2\" class=\"data row15 col2\" >0.130634</td> \n",
       "        <td id=\"T_e68a40a2_0c25_11e9_87cf_985fd3379ae1row15_col3\" class=\"data row15 col3\" >0.694433</td> \n",
       "    </tr>    <tr> \n",
       "        <th id=\"T_e68a40a2_0c25_11e9_87cf_985fd3379ae1level0_row16\" class=\"row_heading level0 row16\" >group_inou</th> \n",
       "        <td id=\"T_e68a40a2_0c25_11e9_87cf_985fd3379ae1row16_col0\" class=\"data row16 col0\" >0.0504629</td> \n",
       "        <td id=\"T_e68a40a2_0c25_11e9_87cf_985fd3379ae1row16_col1\" class=\"data row16 col1\" >0.143422</td> \n",
       "        <td id=\"T_e68a40a2_0c25_11e9_87cf_985fd3379ae1row16_col2\" class=\"data row16 col2\" >0.142457</td> \n",
       "        <td id=\"T_e68a40a2_0c25_11e9_87cf_985fd3379ae1row16_col3\" class=\"data row16 col3\" >0.663657</td> \n",
       "    </tr>    <tr> \n",
       "        <th id=\"T_e68a40a2_0c25_11e9_87cf_985fd3379ae1level0_row17\" class=\"row_heading level0 row17\" >luki</th> \n",
       "        <td id=\"T_e68a40a2_0c25_11e9_87cf_985fd3379ae1row17_col0\" class=\"data row17 col0\" >0.0452038</td> \n",
       "        <td id=\"T_e68a40a2_0c25_11e9_87cf_985fd3379ae1row17_col1\" class=\"data row17 col1\" >0.145276</td> \n",
       "        <td id=\"T_e68a40a2_0c25_11e9_87cf_985fd3379ae1row17_col2\" class=\"data row17 col2\" >0.157644</td> \n",
       "        <td id=\"T_e68a40a2_0c25_11e9_87cf_985fd3379ae1row17_col3\" class=\"data row17 col3\" >0.651877</td> \n",
       "    </tr>    <tr> \n",
       "        <th id=\"T_e68a40a2_0c25_11e9_87cf_985fd3379ae1level0_row18\" class=\"row_heading level0 row18\" >plenty</th> \n",
       "        <td id=\"T_e68a40a2_0c25_11e9_87cf_985fd3379ae1row18_col0\" class=\"data row18 col0\" >0.00762974</td> \n",
       "        <td id=\"T_e68a40a2_0c25_11e9_87cf_985fd3379ae1row18_col1\" class=\"data row18 col1\" >0.0777983</td> \n",
       "        <td id=\"T_e68a40a2_0c25_11e9_87cf_985fd3379ae1row18_col2\" class=\"data row18 col2\" >0.0716933</td> \n",
       "        <td id=\"T_e68a40a2_0c25_11e9_87cf_985fd3379ae1row18_col3\" class=\"data row18 col3\" >0.842879</td> \n",
       "    </tr>    <tr> \n",
       "        <th id=\"T_e68a40a2_0c25_11e9_87cf_985fd3379ae1level0_row19\" class=\"row_heading level0 row19\" >sleepy.ab</th> \n",
       "        <td id=\"T_e68a40a2_0c25_11e9_87cf_985fd3379ae1row19_col0\" class=\"data row19 col0\" >0.0565812</td> \n",
       "        <td id=\"T_e68a40a2_0c25_11e9_87cf_985fd3379ae1row19_col1\" class=\"data row19 col1\" >0.124325</td> \n",
       "        <td id=\"T_e68a40a2_0c25_11e9_87cf_985fd3379ae1row19_col2\" class=\"data row19 col2\" >0.153278</td> \n",
       "        <td id=\"T_e68a40a2_0c25_11e9_87cf_985fd3379ae1row19_col3\" class=\"data row19 col3\" >0.665816</td> \n",
       "    </tr>    <tr> \n",
       "        <th id=\"T_e68a40a2_0c25_11e9_87cf_985fd3379ae1level0_row20\" class=\"row_heading level0 row20\" >the HIATUS</th> \n",
       "        <td id=\"T_e68a40a2_0c25_11e9_87cf_985fd3379ae1row20_col0\" class=\"data row20 col0\" >0.00677632</td> \n",
       "        <td id=\"T_e68a40a2_0c25_11e9_87cf_985fd3379ae1row20_col1\" class=\"data row20 col1\" >0.068063</td> \n",
       "        <td id=\"T_e68a40a2_0c25_11e9_87cf_985fd3379ae1row20_col2\" class=\"data row20 col2\" >0.0955817</td> \n",
       "        <td id=\"T_e68a40a2_0c25_11e9_87cf_985fd3379ae1row20_col3\" class=\"data row20 col3\" >0.829579</td> \n",
       "    </tr>    <tr> \n",
       "        <th id=\"T_e68a40a2_0c25_11e9_87cf_985fd3379ae1level0_row21\" class=\"row_heading level0 row21\" >the band apart</th> \n",
       "        <td id=\"T_e68a40a2_0c25_11e9_87cf_985fd3379ae1row21_col0\" class=\"data row21 col0\" >0.151677</td> \n",
       "        <td id=\"T_e68a40a2_0c25_11e9_87cf_985fd3379ae1row21_col1\" class=\"data row21 col1\" >0.0901995</td> \n",
       "        <td id=\"T_e68a40a2_0c25_11e9_87cf_985fd3379ae1row21_col2\" class=\"data row21 col2\" >0.135245</td> \n",
       "        <td id=\"T_e68a40a2_0c25_11e9_87cf_985fd3379ae1row21_col3\" class=\"data row21 col3\" >0.622878</td> \n",
       "    </tr>    <tr> \n",
       "        <th id=\"T_e68a40a2_0c25_11e9_87cf_985fd3379ae1level0_row22\" class=\"row_heading level0 row22\" >さよなら、また今度ね</th> \n",
       "        <td id=\"T_e68a40a2_0c25_11e9_87cf_985fd3379ae1row22_col0\" class=\"data row22 col0\" >0.0565812</td> \n",
       "        <td id=\"T_e68a40a2_0c25_11e9_87cf_985fd3379ae1row22_col1\" class=\"data row22 col1\" >0.124325</td> \n",
       "        <td id=\"T_e68a40a2_0c25_11e9_87cf_985fd3379ae1row22_col2\" class=\"data row22 col2\" >0.153278</td> \n",
       "        <td id=\"T_e68a40a2_0c25_11e9_87cf_985fd3379ae1row22_col3\" class=\"data row22 col3\" >0.665816</td> \n",
       "    </tr>    <tr> \n",
       "        <th id=\"T_e68a40a2_0c25_11e9_87cf_985fd3379ae1level0_row23\" class=\"row_heading level0 row23\" >でんぱ組.inc</th> \n",
       "        <td id=\"T_e68a40a2_0c25_11e9_87cf_985fd3379ae1row23_col0\" class=\"data row23 col0\" >0.0675083</td> \n",
       "        <td id=\"T_e68a40a2_0c25_11e9_87cf_985fd3379ae1row23_col1\" class=\"data row23 col1\" >0.143165</td> \n",
       "        <td id=\"T_e68a40a2_0c25_11e9_87cf_985fd3379ae1row23_col2\" class=\"data row23 col2\" >0.143044</td> \n",
       "        <td id=\"T_e68a40a2_0c25_11e9_87cf_985fd3379ae1row23_col3\" class=\"data row23 col3\" >0.646283</td> \n",
       "    </tr>    <tr> \n",
       "        <th id=\"T_e68a40a2_0c25_11e9_87cf_985fd3379ae1level0_row24\" class=\"row_heading level0 row24\" >ねごと</th> \n",
       "        <td id=\"T_e68a40a2_0c25_11e9_87cf_985fd3379ae1row24_col0\" class=\"data row24 col0\" >0.036019</td> \n",
       "        <td id=\"T_e68a40a2_0c25_11e9_87cf_985fd3379ae1row24_col1\" class=\"data row24 col1\" >0.129675</td> \n",
       "        <td id=\"T_e68a40a2_0c25_11e9_87cf_985fd3379ae1row24_col2\" class=\"data row24 col2\" >0.223085</td> \n",
       "        <td id=\"T_e68a40a2_0c25_11e9_87cf_985fd3379ae1row24_col3\" class=\"data row24 col3\" >0.611221</td> \n",
       "    </tr>    <tr> \n",
       "        <th id=\"T_e68a40a2_0c25_11e9_87cf_985fd3379ae1level0_row25\" class=\"row_heading level0 row25\" >やついいちろう（エレキコミック）</th> \n",
       "        <td id=\"T_e68a40a2_0c25_11e9_87cf_985fd3379ae1row25_col0\" class=\"data row25 col0\" >0.0679035</td> \n",
       "        <td id=\"T_e68a40a2_0c25_11e9_87cf_985fd3379ae1row25_col1\" class=\"data row25 col1\" >0.125738</td> \n",
       "        <td id=\"T_e68a40a2_0c25_11e9_87cf_985fd3379ae1row25_col2\" class=\"data row25 col2\" >0.170433</td> \n",
       "        <td id=\"T_e68a40a2_0c25_11e9_87cf_985fd3379ae1row25_col3\" class=\"data row25 col3\" >0.635925</td> \n",
       "    </tr>    <tr> \n",
       "        <th id=\"T_e68a40a2_0c25_11e9_87cf_985fd3379ae1level0_row26\" class=\"row_heading level0 row26\" >エレファントカシマシ</th> \n",
       "        <td id=\"T_e68a40a2_0c25_11e9_87cf_985fd3379ae1row26_col0\" class=\"data row26 col0\" >0.00368039</td> \n",
       "        <td id=\"T_e68a40a2_0c25_11e9_87cf_985fd3379ae1row26_col1\" class=\"data row26 col1\" >0.0936617</td> \n",
       "        <td id=\"T_e68a40a2_0c25_11e9_87cf_985fd3379ae1row26_col2\" class=\"data row26 col2\" >0.110109</td> \n",
       "        <td id=\"T_e68a40a2_0c25_11e9_87cf_985fd3379ae1row26_col3\" class=\"data row26 col3\" >0.792549</td> \n",
       "    </tr>    <tr> \n",
       "        <th id=\"T_e68a40a2_0c25_11e9_87cf_985fd3379ae1level0_row27\" class=\"row_heading level0 row27\" >サンボマスター</th> \n",
       "        <td id=\"T_e68a40a2_0c25_11e9_87cf_985fd3379ae1row27_col0\" class=\"data row27 col0\" >0.0084208</td> \n",
       "        <td id=\"T_e68a40a2_0c25_11e9_87cf_985fd3379ae1row27_col1\" class=\"data row27 col1\" >0.101899</td> \n",
       "        <td id=\"T_e68a40a2_0c25_11e9_87cf_985fd3379ae1row27_col2\" class=\"data row27 col2\" >0.12925</td> \n",
       "        <td id=\"T_e68a40a2_0c25_11e9_87cf_985fd3379ae1row27_col3\" class=\"data row27 col3\" >0.76043</td> \n",
       "    </tr>    <tr> \n",
       "        <th id=\"T_e68a40a2_0c25_11e9_87cf_985fd3379ae1level0_row28\" class=\"row_heading level0 row28\" >ザ50回転ズ</th> \n",
       "        <td id=\"T_e68a40a2_0c25_11e9_87cf_985fd3379ae1row28_col0\" class=\"data row28 col0\" >0.0905572</td> \n",
       "        <td id=\"T_e68a40a2_0c25_11e9_87cf_985fd3379ae1row28_col1\" class=\"data row28 col1\" >0.125537</td> \n",
       "        <td id=\"T_e68a40a2_0c25_11e9_87cf_985fd3379ae1row28_col2\" class=\"data row28 col2\" >0.171542</td> \n",
       "        <td id=\"T_e68a40a2_0c25_11e9_87cf_985fd3379ae1row28_col3\" class=\"data row28 col3\" >0.612364</td> \n",
       "    </tr>    <tr> \n",
       "        <th id=\"T_e68a40a2_0c25_11e9_87cf_985fd3379ae1level0_row29\" class=\"row_heading level0 row29\" >シシド・カフカ</th> \n",
       "        <td id=\"T_e68a40a2_0c25_11e9_87cf_985fd3379ae1row29_col0\" class=\"data row29 col0\" >0.0565812</td> \n",
       "        <td id=\"T_e68a40a2_0c25_11e9_87cf_985fd3379ae1row29_col1\" class=\"data row29 col1\" >0.124325</td> \n",
       "        <td id=\"T_e68a40a2_0c25_11e9_87cf_985fd3379ae1row29_col2\" class=\"data row29 col2\" >0.153278</td> \n",
       "        <td id=\"T_e68a40a2_0c25_11e9_87cf_985fd3379ae1row29_col3\" class=\"data row29 col3\" >0.665816</td> \n",
       "    </tr>    <tr> \n",
       "        <th id=\"T_e68a40a2_0c25_11e9_87cf_985fd3379ae1level0_row30\" class=\"row_heading level0 row30\" >ダイノジ</th> \n",
       "        <td id=\"T_e68a40a2_0c25_11e9_87cf_985fd3379ae1row30_col0\" class=\"data row30 col0\" >0.0727182</td> \n",
       "        <td id=\"T_e68a40a2_0c25_11e9_87cf_985fd3379ae1row30_col1\" class=\"data row30 col1\" >0.167765</td> \n",
       "        <td id=\"T_e68a40a2_0c25_11e9_87cf_985fd3379ae1row30_col2\" class=\"data row30 col2\" >0.148778</td> \n",
       "        <td id=\"T_e68a40a2_0c25_11e9_87cf_985fd3379ae1row30_col3\" class=\"data row30 col3\" >0.610739</td> \n",
       "    </tr>    <tr> \n",
       "        <th id=\"T_e68a40a2_0c25_11e9_87cf_985fd3379ae1level0_row31\" class=\"row_heading level0 row31\" >ハヤシヒロユキ（POLYSICS）</th> \n",
       "        <td id=\"T_e68a40a2_0c25_11e9_87cf_985fd3379ae1row31_col0\" class=\"data row31 col0\" >0.0905572</td> \n",
       "        <td id=\"T_e68a40a2_0c25_11e9_87cf_985fd3379ae1row31_col1\" class=\"data row31 col1\" >0.125537</td> \n",
       "        <td id=\"T_e68a40a2_0c25_11e9_87cf_985fd3379ae1row31_col2\" class=\"data row31 col2\" >0.171542</td> \n",
       "        <td id=\"T_e68a40a2_0c25_11e9_87cf_985fd3379ae1row31_col3\" class=\"data row31 col3\" >0.612364</td> \n",
       "    </tr>    <tr> \n",
       "        <th id=\"T_e68a40a2_0c25_11e9_87cf_985fd3379ae1level0_row32\" class=\"row_heading level0 row32\" >ヒトリエ</th> \n",
       "        <td id=\"T_e68a40a2_0c25_11e9_87cf_985fd3379ae1row32_col0\" class=\"data row32 col0\" >0.0452038</td> \n",
       "        <td id=\"T_e68a40a2_0c25_11e9_87cf_985fd3379ae1row32_col1\" class=\"data row32 col1\" >0.145276</td> \n",
       "        <td id=\"T_e68a40a2_0c25_11e9_87cf_985fd3379ae1row32_col2\" class=\"data row32 col2\" >0.157644</td> \n",
       "        <td id=\"T_e68a40a2_0c25_11e9_87cf_985fd3379ae1row32_col3\" class=\"data row32 col3\" >0.651877</td> \n",
       "    </tr>    <tr> \n",
       "        <th id=\"T_e68a40a2_0c25_11e9_87cf_985fd3379ae1level0_row33\" class=\"row_heading level0 row33\" >中川翔子</th> \n",
       "        <td id=\"T_e68a40a2_0c25_11e9_87cf_985fd3379ae1row33_col0\" class=\"data row33 col0\" >0.0565812</td> \n",
       "        <td id=\"T_e68a40a2_0c25_11e9_87cf_985fd3379ae1row33_col1\" class=\"data row33 col1\" >0.124325</td> \n",
       "        <td id=\"T_e68a40a2_0c25_11e9_87cf_985fd3379ae1row33_col2\" class=\"data row33 col2\" >0.153278</td> \n",
       "        <td id=\"T_e68a40a2_0c25_11e9_87cf_985fd3379ae1row33_col3\" class=\"data row33 col3\" >0.665816</td> \n",
       "    </tr>    <tr> \n",
       "        <th id=\"T_e68a40a2_0c25_11e9_87cf_985fd3379ae1level0_row34\" class=\"row_heading level0 row34\" >吉井和哉</th> \n",
       "        <td id=\"T_e68a40a2_0c25_11e9_87cf_985fd3379ae1row34_col0\" class=\"data row34 col0\" >0.0504629</td> \n",
       "        <td id=\"T_e68a40a2_0c25_11e9_87cf_985fd3379ae1row34_col1\" class=\"data row34 col1\" >0.143422</td> \n",
       "        <td id=\"T_e68a40a2_0c25_11e9_87cf_985fd3379ae1row34_col2\" class=\"data row34 col2\" >0.142457</td> \n",
       "        <td id=\"T_e68a40a2_0c25_11e9_87cf_985fd3379ae1row34_col3\" class=\"data row34 col3\" >0.663657</td> \n",
       "    </tr>    <tr> \n",
       "        <th id=\"T_e68a40a2_0c25_11e9_87cf_985fd3379ae1level0_row35\" class=\"row_heading level0 row35\" >奥田民生</th> \n",
       "        <td id=\"T_e68a40a2_0c25_11e9_87cf_985fd3379ae1row35_col0\" class=\"data row35 col0\" >0.635191</td> \n",
       "        <td id=\"T_e68a40a2_0c25_11e9_87cf_985fd3379ae1row35_col1\" class=\"data row35 col1\" >0.151291</td> \n",
       "        <td id=\"T_e68a40a2_0c25_11e9_87cf_985fd3379ae1row35_col2\" class=\"data row35 col2\" >0.167977</td> \n",
       "        <td id=\"T_e68a40a2_0c25_11e9_87cf_985fd3379ae1row35_col3\" class=\"data row35 col3\" >0.0455414</td> \n",
       "    </tr>    <tr> \n",
       "        <th id=\"T_e68a40a2_0c25_11e9_87cf_985fd3379ae1level0_row36\" class=\"row_heading level0 row36\" >小林太郎</th> \n",
       "        <td id=\"T_e68a40a2_0c25_11e9_87cf_985fd3379ae1row36_col0\" class=\"data row36 col0\" >0.0276788</td> \n",
       "        <td id=\"T_e68a40a2_0c25_11e9_87cf_985fd3379ae1row36_col1\" class=\"data row36 col1\" >0.109741</td> \n",
       "        <td id=\"T_e68a40a2_0c25_11e9_87cf_985fd3379ae1row36_col2\" class=\"data row36 col2\" >0.114586</td> \n",
       "        <td id=\"T_e68a40a2_0c25_11e9_87cf_985fd3379ae1row36_col3\" class=\"data row36 col3\" >0.747993</td> \n",
       "    </tr>    <tr> \n",
       "        <th id=\"T_e68a40a2_0c25_11e9_87cf_985fd3379ae1level0_row37\" class=\"row_heading level0 row37\" >東京カランコロン</th> \n",
       "        <td id=\"T_e68a40a2_0c25_11e9_87cf_985fd3379ae1row37_col0\" class=\"data row37 col0\" >0.0607367</td> \n",
       "        <td id=\"T_e68a40a2_0c25_11e9_87cf_985fd3379ae1row37_col1\" class=\"data row37 col1\" >0.145428</td> \n",
       "        <td id=\"T_e68a40a2_0c25_11e9_87cf_985fd3379ae1row37_col2\" class=\"data row37 col2\" >0.15884</td> \n",
       "        <td id=\"T_e68a40a2_0c25_11e9_87cf_985fd3379ae1row37_col3\" class=\"data row37 col3\" >0.634996</td> \n",
       "    </tr>    <tr> \n",
       "        <th id=\"T_e68a40a2_0c25_11e9_87cf_985fd3379ae1level0_row38\" class=\"row_heading level0 row38\" >柴田隆浩(忘れらんねえよ)[DJ]</th> \n",
       "        <td id=\"T_e68a40a2_0c25_11e9_87cf_985fd3379ae1row38_col0\" class=\"data row38 col0\" >0.0504629</td> \n",
       "        <td id=\"T_e68a40a2_0c25_11e9_87cf_985fd3379ae1row38_col1\" class=\"data row38 col1\" >0.143422</td> \n",
       "        <td id=\"T_e68a40a2_0c25_11e9_87cf_985fd3379ae1row38_col2\" class=\"data row38 col2\" >0.142457</td> \n",
       "        <td id=\"T_e68a40a2_0c25_11e9_87cf_985fd3379ae1row38_col3\" class=\"data row38 col3\" >0.663657</td> \n",
       "    </tr>    <tr> \n",
       "        <th id=\"T_e68a40a2_0c25_11e9_87cf_985fd3379ae1level0_row39\" class=\"row_heading level0 row39\" >真空ホロウ</th> \n",
       "        <td id=\"T_e68a40a2_0c25_11e9_87cf_985fd3379ae1row39_col0\" class=\"data row39 col0\" >0.0448127</td> \n",
       "        <td id=\"T_e68a40a2_0c25_11e9_87cf_985fd3379ae1row39_col1\" class=\"data row39 col1\" >0.164254</td> \n",
       "        <td id=\"T_e68a40a2_0c25_11e9_87cf_985fd3379ae1row39_col2\" class=\"data row39 col2\" >0.131807</td> \n",
       "        <td id=\"T_e68a40a2_0c25_11e9_87cf_985fd3379ae1row39_col3\" class=\"data row39 col3\" >0.659126</td> \n",
       "    </tr>    <tr> \n",
       "        <th id=\"T_e68a40a2_0c25_11e9_87cf_985fd3379ae1level0_row40\" class=\"row_heading level0 row40\" >麗蘭</th> \n",
       "        <td id=\"T_e68a40a2_0c25_11e9_87cf_985fd3379ae1row40_col0\" class=\"data row40 col0\" >0.0452038</td> \n",
       "        <td id=\"T_e68a40a2_0c25_11e9_87cf_985fd3379ae1row40_col1\" class=\"data row40 col1\" >0.145276</td> \n",
       "        <td id=\"T_e68a40a2_0c25_11e9_87cf_985fd3379ae1row40_col2\" class=\"data row40 col2\" >0.157644</td> \n",
       "        <td id=\"T_e68a40a2_0c25_11e9_87cf_985fd3379ae1row40_col3\" class=\"data row40 col3\" >0.651877</td> \n",
       "    </tr></tbody> \n",
       "</table> "
      ],
      "text/plain": [
       "<pandas.io.formats.style.Styler at 0x2af25978ba8>"
      ]
     },
     "execution_count": 105,
     "metadata": {},
     "output_type": "execute_result"
    }
   ],
   "source": [
    "score, prediction_cdj = make_predict_model(f_cdj, 2017, cumsum=True)\n",
    "prediction_cdj[prediction_cdj.max(axis=1) >= 0.6].style.highlight_max(axis=1)"
   ]
  },
  {
   "cell_type": "code",
   "execution_count": 110,
   "metadata": {},
   "outputs": [
    {
     "name": "stdout",
     "output_type": "stream",
     "text": [
      "0.3062015503875969\n"
     ]
    }
   ],
   "source": [
    "score, prediction_rinj = make_predict_model(f_rinj, 2018, cumsum=True)\n",
    "print(score)"
   ]
  },
  {
   "cell_type": "code",
   "execution_count": 111,
   "metadata": {},
   "outputs": [
    {
     "data": {
      "text/html": [
       "<style  type=\"text/css\" >\n",
       "    #T_04a1cdf8_0c26_11e9_89f5_985fd3379ae1row0_col3 {\n",
       "            background-color:  yellow;\n",
       "        }    #T_04a1cdf8_0c26_11e9_89f5_985fd3379ae1row1_col3 {\n",
       "            background-color:  yellow;\n",
       "        }    #T_04a1cdf8_0c26_11e9_89f5_985fd3379ae1row2_col3 {\n",
       "            background-color:  yellow;\n",
       "        }    #T_04a1cdf8_0c26_11e9_89f5_985fd3379ae1row3_col3 {\n",
       "            background-color:  yellow;\n",
       "        }    #T_04a1cdf8_0c26_11e9_89f5_985fd3379ae1row4_col3 {\n",
       "            background-color:  yellow;\n",
       "        }    #T_04a1cdf8_0c26_11e9_89f5_985fd3379ae1row5_col3 {\n",
       "            background-color:  yellow;\n",
       "        }    #T_04a1cdf8_0c26_11e9_89f5_985fd3379ae1row6_col3 {\n",
       "            background-color:  yellow;\n",
       "        }</style>  \n",
       "<table id=\"T_04a1cdf8_0c26_11e9_89f5_985fd3379ae1\" > \n",
       "<thead>    <tr> \n",
       "        <th class=\"blank level0\" ></th> \n",
       "        <th class=\"col_heading level0 col0\" >0</th> \n",
       "        <th class=\"col_heading level0 col1\" >1</th> \n",
       "        <th class=\"col_heading level0 col2\" >2</th> \n",
       "        <th class=\"col_heading level0 col3\" >3</th> \n",
       "    </tr>    <tr> \n",
       "        <th class=\"index_name level0\" >artist</th> \n",
       "        <th class=\"blank\" ></th> \n",
       "        <th class=\"blank\" ></th> \n",
       "        <th class=\"blank\" ></th> \n",
       "        <th class=\"blank\" ></th> \n",
       "    </tr></thead> \n",
       "<tbody>    <tr> \n",
       "        <th id=\"T_04a1cdf8_0c26_11e9_89f5_985fd3379ae1level0_row0\" class=\"row_heading level0 row0\" >9mm Parabellum Bullet</th> \n",
       "        <td id=\"T_04a1cdf8_0c26_11e9_89f5_985fd3379ae1row0_col0\" class=\"data row0 col0\" >0.185289</td> \n",
       "        <td id=\"T_04a1cdf8_0c26_11e9_89f5_985fd3379ae1row0_col1\" class=\"data row0 col1\" >0.0880745</td> \n",
       "        <td id=\"T_04a1cdf8_0c26_11e9_89f5_985fd3379ae1row0_col2\" class=\"data row0 col2\" >0.0952623</td> \n",
       "        <td id=\"T_04a1cdf8_0c26_11e9_89f5_985fd3379ae1row0_col3\" class=\"data row0 col3\" >0.631374</td> \n",
       "    </tr>    <tr> \n",
       "        <th id=\"T_04a1cdf8_0c26_11e9_89f5_985fd3379ae1level0_row1\" class=\"row_heading level0 row1\" >DJ和</th> \n",
       "        <td id=\"T_04a1cdf8_0c26_11e9_89f5_985fd3379ae1row1_col0\" class=\"data row1 col0\" >0.114603</td> \n",
       "        <td id=\"T_04a1cdf8_0c26_11e9_89f5_985fd3379ae1row1_col1\" class=\"data row1 col1\" >0.0368935</td> \n",
       "        <td id=\"T_04a1cdf8_0c26_11e9_89f5_985fd3379ae1row1_col2\" class=\"data row1 col2\" >0.041614</td> \n",
       "        <td id=\"T_04a1cdf8_0c26_11e9_89f5_985fd3379ae1row1_col3\" class=\"data row1 col3\" >0.80689</td> \n",
       "    </tr>    <tr> \n",
       "        <th id=\"T_04a1cdf8_0c26_11e9_89f5_985fd3379ae1level0_row2\" class=\"row_heading level0 row2\" >ROTTENGRAFFTY</th> \n",
       "        <td id=\"T_04a1cdf8_0c26_11e9_89f5_985fd3379ae1row2_col0\" class=\"data row2 col0\" >0.183835</td> \n",
       "        <td id=\"T_04a1cdf8_0c26_11e9_89f5_985fd3379ae1row2_col1\" class=\"data row2 col1\" >0.0801345</td> \n",
       "        <td id=\"T_04a1cdf8_0c26_11e9_89f5_985fd3379ae1row2_col2\" class=\"data row2 col2\" >0.120899</td> \n",
       "        <td id=\"T_04a1cdf8_0c26_11e9_89f5_985fd3379ae1row2_col3\" class=\"data row2 col3\" >0.615132</td> \n",
       "    </tr>    <tr> \n",
       "        <th id=\"T_04a1cdf8_0c26_11e9_89f5_985fd3379ae1level0_row3\" class=\"row_heading level0 row3\" >dustbox</th> \n",
       "        <td id=\"T_04a1cdf8_0c26_11e9_89f5_985fd3379ae1row3_col0\" class=\"data row3 col0\" >0.191882</td> \n",
       "        <td id=\"T_04a1cdf8_0c26_11e9_89f5_985fd3379ae1row3_col1\" class=\"data row3 col1\" >0.0665551</td> \n",
       "        <td id=\"T_04a1cdf8_0c26_11e9_89f5_985fd3379ae1row3_col2\" class=\"data row3 col2\" >0.133547</td> \n",
       "        <td id=\"T_04a1cdf8_0c26_11e9_89f5_985fd3379ae1row3_col3\" class=\"data row3 col3\" >0.608016</td> \n",
       "    </tr>    <tr> \n",
       "        <th id=\"T_04a1cdf8_0c26_11e9_89f5_985fd3379ae1level0_row4\" class=\"row_heading level0 row4\" >パスピエ</th> \n",
       "        <td id=\"T_04a1cdf8_0c26_11e9_89f5_985fd3379ae1row4_col0\" class=\"data row4 col0\" >0.164089</td> \n",
       "        <td id=\"T_04a1cdf8_0c26_11e9_89f5_985fd3379ae1row4_col1\" class=\"data row4 col1\" >0.110186</td> \n",
       "        <td id=\"T_04a1cdf8_0c26_11e9_89f5_985fd3379ae1row4_col2\" class=\"data row4 col2\" >0.0985543</td> \n",
       "        <td id=\"T_04a1cdf8_0c26_11e9_89f5_985fd3379ae1row4_col3\" class=\"data row4 col3\" >0.627171</td> \n",
       "    </tr>    <tr> \n",
       "        <th id=\"T_04a1cdf8_0c26_11e9_89f5_985fd3379ae1level0_row5\" class=\"row_heading level0 row5\" >中村一義</th> \n",
       "        <td id=\"T_04a1cdf8_0c26_11e9_89f5_985fd3379ae1row5_col0\" class=\"data row5 col0\" >0.165709</td> \n",
       "        <td id=\"T_04a1cdf8_0c26_11e9_89f5_985fd3379ae1row5_col1\" class=\"data row5 col1\" >0.108868</td> \n",
       "        <td id=\"T_04a1cdf8_0c26_11e9_89f5_985fd3379ae1row5_col2\" class=\"data row5 col2\" >0.101384</td> \n",
       "        <td id=\"T_04a1cdf8_0c26_11e9_89f5_985fd3379ae1row5_col3\" class=\"data row5 col3\" >0.624039</td> \n",
       "    </tr>    <tr> \n",
       "        <th id=\"T_04a1cdf8_0c26_11e9_89f5_985fd3379ae1level0_row6\" class=\"row_heading level0 row6\" >忘れらんねえよ</th> \n",
       "        <td id=\"T_04a1cdf8_0c26_11e9_89f5_985fd3379ae1row6_col0\" class=\"data row6 col0\" >0.17372</td> \n",
       "        <td id=\"T_04a1cdf8_0c26_11e9_89f5_985fd3379ae1row6_col1\" class=\"data row6 col1\" >0.0970027</td> \n",
       "        <td id=\"T_04a1cdf8_0c26_11e9_89f5_985fd3379ae1row6_col2\" class=\"data row6 col2\" >0.105853</td> \n",
       "        <td id=\"T_04a1cdf8_0c26_11e9_89f5_985fd3379ae1row6_col3\" class=\"data row6 col3\" >0.623424</td> \n",
       "    </tr></tbody> \n",
       "</table> "
      ],
      "text/plain": [
       "<pandas.io.formats.style.Styler at 0x2af20ea8a90>"
      ]
     },
     "execution_count": 111,
     "metadata": {},
     "output_type": "execute_result"
    }
   ],
   "source": [
    "prediction_rinj[prediction_rinj.max(axis=1) >= 0.6].style.highlight_max(axis=1)"
   ]
  },
  {
   "cell_type": "code",
   "execution_count": 113,
   "metadata": {},
   "outputs": [
    {
     "data": {
      "text/html": [
       "<style  type=\"text/css\" >\n",
       "    #T_5ffca410_0c26_11e9_942b_985fd3379ae1row0_col3 {\n",
       "            background-color:  yellow;\n",
       "        }    #T_5ffca410_0c26_11e9_942b_985fd3379ae1row1_col3 {\n",
       "            background-color:  yellow;\n",
       "        }    #T_5ffca410_0c26_11e9_942b_985fd3379ae1row2_col3 {\n",
       "            background-color:  yellow;\n",
       "        }    #T_5ffca410_0c26_11e9_942b_985fd3379ae1row3_col3 {\n",
       "            background-color:  yellow;\n",
       "        }    #T_5ffca410_0c26_11e9_942b_985fd3379ae1row4_col3 {\n",
       "            background-color:  yellow;\n",
       "        }</style>  \n",
       "<table id=\"T_5ffca410_0c26_11e9_942b_985fd3379ae1\" > \n",
       "<thead>    <tr> \n",
       "        <th class=\"blank level0\" ></th> \n",
       "        <th class=\"col_heading level0 col0\" >0</th> \n",
       "        <th class=\"col_heading level0 col1\" >1</th> \n",
       "        <th class=\"col_heading level0 col2\" >2</th> \n",
       "        <th class=\"col_heading level0 col3\" >3</th> \n",
       "    </tr>    <tr> \n",
       "        <th class=\"index_name level0\" >artist</th> \n",
       "        <th class=\"blank\" ></th> \n",
       "        <th class=\"blank\" ></th> \n",
       "        <th class=\"blank\" ></th> \n",
       "        <th class=\"blank\" ></th> \n",
       "    </tr></thead> \n",
       "<tbody>    <tr> \n",
       "        <th id=\"T_5ffca410_0c26_11e9_942b_985fd3379ae1level0_row0\" class=\"row_heading level0 row0\" >POLYSICS</th> \n",
       "        <td id=\"T_5ffca410_0c26_11e9_942b_985fd3379ae1row0_col0\" class=\"data row0 col0\" >0.120572</td> \n",
       "        <td id=\"T_5ffca410_0c26_11e9_942b_985fd3379ae1row0_col1\" class=\"data row0 col1\" >0.0924907</td> \n",
       "        <td id=\"T_5ffca410_0c26_11e9_942b_985fd3379ae1row0_col2\" class=\"data row0 col2\" >0.128702</td> \n",
       "        <td id=\"T_5ffca410_0c26_11e9_942b_985fd3379ae1row0_col3\" class=\"data row0 col3\" >0.658235</td> \n",
       "    </tr>    <tr> \n",
       "        <th id=\"T_5ffca410_0c26_11e9_942b_985fd3379ae1level0_row1\" class=\"row_heading level0 row1\" >THE BACK HORN</th> \n",
       "        <td id=\"T_5ffca410_0c26_11e9_942b_985fd3379ae1row1_col0\" class=\"data row1 col0\" >0.159994</td> \n",
       "        <td id=\"T_5ffca410_0c26_11e9_942b_985fd3379ae1row1_col1\" class=\"data row1 col1\" >0.122299</td> \n",
       "        <td id=\"T_5ffca410_0c26_11e9_942b_985fd3379ae1row1_col2\" class=\"data row1 col2\" >0.112507</td> \n",
       "        <td id=\"T_5ffca410_0c26_11e9_942b_985fd3379ae1row1_col3\" class=\"data row1 col3\" >0.6052</td> \n",
       "    </tr>    <tr> \n",
       "        <th id=\"T_5ffca410_0c26_11e9_942b_985fd3379ae1level0_row2\" class=\"row_heading level0 row2\" >plenty</th> \n",
       "        <td id=\"T_5ffca410_0c26_11e9_942b_985fd3379ae1row2_col0\" class=\"data row2 col0\" >0.176436</td> \n",
       "        <td id=\"T_5ffca410_0c26_11e9_942b_985fd3379ae1row2_col1\" class=\"data row2 col1\" >0.115076</td> \n",
       "        <td id=\"T_5ffca410_0c26_11e9_942b_985fd3379ae1row2_col2\" class=\"data row2 col2\" >0.106375</td> \n",
       "        <td id=\"T_5ffca410_0c26_11e9_942b_985fd3379ae1row2_col3\" class=\"data row2 col3\" >0.602113</td> \n",
       "    </tr>    <tr> \n",
       "        <th id=\"T_5ffca410_0c26_11e9_942b_985fd3379ae1level0_row3\" class=\"row_heading level0 row3\" >the HIATUS</th> \n",
       "        <td id=\"T_5ffca410_0c26_11e9_942b_985fd3379ae1row3_col0\" class=\"data row3 col0\" >0.164307</td> \n",
       "        <td id=\"T_5ffca410_0c26_11e9_942b_985fd3379ae1row3_col1\" class=\"data row3 col1\" >0.120387</td> \n",
       "        <td id=\"T_5ffca410_0c26_11e9_942b_985fd3379ae1row3_col2\" class=\"data row3 col2\" >0.113541</td> \n",
       "        <td id=\"T_5ffca410_0c26_11e9_942b_985fd3379ae1row3_col3\" class=\"data row3 col3\" >0.601765</td> \n",
       "    </tr>    <tr> \n",
       "        <th id=\"T_5ffca410_0c26_11e9_942b_985fd3379ae1level0_row4\" class=\"row_heading level0 row4\" >サンボマスター</th> \n",
       "        <td id=\"T_5ffca410_0c26_11e9_942b_985fd3379ae1row4_col0\" class=\"data row4 col0\" >0.152587</td> \n",
       "        <td id=\"T_5ffca410_0c26_11e9_942b_985fd3379ae1row4_col1\" class=\"data row4 col1\" >0.125768</td> \n",
       "        <td id=\"T_5ffca410_0c26_11e9_942b_985fd3379ae1row4_col2\" class=\"data row4 col2\" >0.120982</td> \n",
       "        <td id=\"T_5ffca410_0c26_11e9_942b_985fd3379ae1row4_col3\" class=\"data row4 col3\" >0.600663</td> \n",
       "    </tr></tbody> \n",
       "</table> "
      ],
      "text/plain": [
       "<pandas.io.formats.style.Styler at 0x2af25412358>"
      ]
     },
     "execution_count": 113,
     "metadata": {},
     "output_type": "execute_result"
    }
   ],
   "source": [
    "score, prediction_rinj_from_cdj = make_predict_model(f_rinj, 2018, cumsum=True, feature=f_cdj)\n",
    "prediction_rinj_from_cdj[prediction_rinj_from_cdj.max(axis=1) >= 0.6].style.highlight_max(axis=1)"
   ]
  },
  {
   "cell_type": "code",
   "execution_count": null,
   "metadata": {},
   "outputs": [],
   "source": []
  }
 ],
 "metadata": {
  "kernelspec": {
   "display_name": "Python 3",
   "language": "python",
   "name": "python3"
  },
  "language_info": {
   "codemirror_mode": {
    "name": "ipython",
    "version": 3
   },
   "file_extension": ".py",
   "mimetype": "text/x-python",
   "name": "python",
   "nbconvert_exporter": "python",
   "pygments_lexer": "ipython3",
   "version": "3.6.7"
  }
 },
 "nbformat": 4,
 "nbformat_minor": 2
}
